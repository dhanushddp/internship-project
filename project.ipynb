{
  "nbformat": 4,
  "nbformat_minor": 0,
  "metadata": {
    "colab": {
      "name": "project.ipynb",
      "provenance": []
    },
    "kernelspec": {
      "name": "python3",
      "display_name": "Python 3"
    },
    "language_info": {
      "name": "python"
    }
  },
  "cells": [
    {
      "cell_type": "code",
      "metadata": {
        "colab": {
          "base_uri": "https://localhost:8080/"
        },
        "id": "DEBTqWOQ-jFr",
        "outputId": "6fc32600-9c1b-4083-f3a7-dbb3c7b25722"
      },
      "source": [
        "import json\n",
        "with open('students.json') as f:\n",
        "  data = json.load(f)\n",
        "\n",
        "\n",
        "while a != 5:  \n",
        "\n",
        "  print(\"****Welcome to the database****\")\n",
        "  print(\"1.View student details : \")\n",
        "  print(\"2.search student : \")\n",
        "  print(\"3.delete  student record : \")\n",
        "  print(\"4.Add new  student record : \")\n",
        "  print(\"5.Quit \")\n",
        "  print(\"***************\")\n",
        "\n",
        "  a = int(input(\"enter choice : \"))\n",
        "\n",
        "  if(a==1):\n",
        "       print (data)\n",
        "  if(a==2):\n",
        "       reg = input(\"enter reg number : \")\n",
        "       print (data[reg])\n",
        "  if(a==3):\n",
        "       reg = input(\"enter reg number : \")\n",
        "       del data[reg]\n",
        "       print(data)\n",
        "\n",
        "       js = json.dumps(data)\n",
        "       \n",
        "       f =  open(\"students.json\",\"w\")\n",
        "       f.write(js)\n",
        "       f.close()\n",
        "       print(\"Record deleted successfull !!!\")\n",
        "\n",
        "  if(a==4):\n",
        "       New_reg = input(\"Enter the Reg NO : \")\n",
        "       New_name = input(\"Enter the Name : \")\n",
        "       New_phone = input(\"Enter the Phone NO : \")\n",
        "       New_dep = input(\"Enter the Department : \")\n",
        "       New_cgpa = input(\"Enter the CGPA value : \")\n",
        "       data[New_reg] = {'name': New_name,'reg_no' : New_reg,'phone' : New_phone,'dep' : New_dep,'cgpa' : New_cgpa}\n",
        "       \n",
        "       js = json.dumps(data)\n",
        "       \n",
        "       f =  open(\"students.json\",\"w\")\n",
        "       f.write(js)\n",
        "       f.close()\n",
        "       print(\"Record added successfull !!!\")\n",
        "\n",
        "  "
      ],
      "execution_count": 8,
      "outputs": [
        {
          "name": "stdout",
          "output_type": "stream",
          "text": [
            "****Welcome to the database****\n",
            "1.View student details : \n",
            "2.search student : \n",
            "3.delete  student record : \n",
            "4.Add new  student record : \n",
            "5.Quit \n",
            "***************\n",
            "enter choice : 1\n",
            "{'191cs158': {'name': 'dinesh', 'reg_no': '191cs158', 'phone': '9955226633', 'dep': 'cse', 'cgpa': '9.36'}, '191cs152': {'name': 'dhaniesh', 'reg_no': '191cs152', 'phone': '9632587412', 'dep': 'cse', 'cgpa': '9.43'}, '191it251': {'name': 'arish', 'reg_no': '191it251', 'phone': '9682581412', 'dep': 'it', 'cgpa': '8.20'}, '191mt210': {'name': 'cibi', 'reg_no': '191mt210', 'phone': '9633699631', 'dep': 'mtrs', 'cgpa': '8.55'}, '191it101': {'name': 'john', 'reg_no': '191it101', 'phone': '9632515412', 'dep': 'it', 'cgpa': '9.85'}, '191ct145': {'name': 'vignesh', 'reg_no': '191ct145', 'phone': '9631407412', 'dep': 'ct', 'cgpa': '9.65'}, '191cs210': {'name': 'raghul', 'reg_no': '191cs210', 'phone': '9632145782', 'dep': 'cse', 'cgpa': '7.43'}, '191ee130': {'name': 'jayabalaji', 'reg_no': '191ee130', 'phone': '9630007412', 'dep': 'eee', 'cgpa': '7.20'}, '191fd125': {'name': 'swetha', 'reg_no': '191fd125', 'phone': '9632511112', 'dep': 'food', 'cgpa': '9.13'}, '192fd133': {'name': 'shanju', 'reg_no': '192fd133', 'phone': '9632587141', 'dep': 'food', 'cgpa': '9.10'}, '191cs154': {'name': 'dhanush', 'reg_no': '191cs154', 'phone': '9631017412', 'dep': 'cse', 'cgpa': '9.34'}, '191ec112': {'name': 'naveen', 'reg_no': '191ec112', 'phone': '9632587102', 'dep': 'ece', 'cgpa': '7.21'}, '191mc251': {'name': 'anu', 'reg_no': '191mc251', 'phone': '9874563210', 'dep': 'mech', 'cgpa': '9.23'}, '191tx200': {'name': 'priya', 'reg_no': '191tx200', 'phone': '9632587002', 'dep': 'txt', 'cgpa': '9.00'}, '191ft182': {'name': 'mcaly', 'reg_no': '191ft182', 'phone': '9163254780', 'dep': 'fash', 'cgpa': '6.43'}, '191ft146': {'name': 'deepak', 'reg_no': '191ft146', 'phone': '9632544441', 'dep': 'fash', 'cgpa': '8.43'}, '191cb11': {'name': 'raghav', 'reg_no': '191cb111', 'phone': '9632580412', 'dep': 'csbs', 'cgpa': '9.93'}, '191cs250': {'name': 'shivani', 'reg_no': '191cs250', 'phone': '9632512412', 'dep': 'cse', 'cgpa': '8.03'}, '191ee152': {'name': 'allen', 'reg_no': '191ee152', 'phone': '9772587412', 'dep': 'eee', 'cgpa': '6.43'}, '191ct250': {'name': 'anish', 'reg_no': '191ct250', 'phone': '9631312412', 'dep': 'ct', 'cgpa': '9.03'}, '191ft112': {'name': 'keerthana', 'reg_no': '191ft112', 'phone': '9600587412', 'dep': 'fash', 'cgpa': '8.88'}, '191mc105': {'name': 'alan', 'reg_no': '191mc105', 'phone': '9999900000', 'dep': 'mech', 'cgpa': '8.23'}, '191mt452': {'name': 'walker', 'reg_no': '191mt452', 'phone': '9632517412', 'dep': 'mtrs', 'cgpa': '9.13'}, '192fd172': {'name': 'jangra', 'reg_no': '192fd172', 'phone': '9632533412', 'dep': 'food', 'cgpa': '9.45'}, '191tx152': {'name': 'rena', 'reg_no': '191tx152', 'phone': '9777777412', 'dep': 'txt', 'cgpa': '9.35'}, '191cb192': {'name': 'ashish', 'reg_no': '191cb192', 'phone': '9632587003', 'dep': 'csbs', 'cgpa': '6.43'}, '191fd162': {'name': 'jayandhan', 'reg_no': '191fd162', 'phone': '7632587412', 'dep': 'food', 'cgpa': '5.43'}, '191bt222': {'name': 'praveen', 'reg_no': '191bt222', 'phone': '9611533412', 'dep': 'bio', 'cgpa': '9.83'}, '191cv202': {'name': 'joshua', 'reg_no': '191cv202', 'phone': '8832587412', 'dep': 'civil', 'cgpa': '9.63'}, '191tx202': {'name': 'elon', 'reg_no': '191tx202', 'phone': '8832187412', 'dep': 'txt', 'cgpa': '7.23'}}\n",
            "****Welcome to the database****\n",
            "1.View student details : \n",
            "2.search student : \n",
            "3.delete  student record : \n",
            "4.Add new  student record : \n",
            "5.Quit \n",
            "***************\n",
            "enter choice : 5\n"
          ]
        }
      ]
    }
  ]
}