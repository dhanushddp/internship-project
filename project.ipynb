{
  "nbformat": 4,
  "nbformat_minor": 0,
  "metadata": {
    "colab": {
      "name": "project.ipynb",
      "provenance": []
    },
    "kernelspec": {
      "name": "python3",
      "display_name": "Python 3"
    },
    "language_info": {
      "name": "python"
    }
  },
  "cells": [
    {
      "cell_type": "code",
      "metadata": {
        "id": "DEBTqWOQ-jFr"
      },
      "source": [
        "import json\n",
        "with open('students.json') as f:\n",
        "  data = json.load(f)\n",
        "\n",
        "\n",
        "while a != 5:  \n",
        "\n",
        "  print(\"****Welcome to the database****\")\n",
        "  print(\"1.View student details : \")\n",
        "  print(\"2.search student : \")\n",
        "  print(\"3.delete  student record : \")\n",
        "  print(\"4.Add new  student record : \")\n",
        "  print(\"5.Quit \")\n",
        "  print(\"***************\")\n",
        "\n",
        "  a = int(input(\"enter choice : \"))\n",
        "\n",
        "  if(a==1):\n",
        "       print (data)\n",
        "  if(a==2):\n",
        "       reg = input(\"enter reg number : \")\n",
        "       print (data[reg])\n",
        "  if(a==3):\n",
        "       reg = input(\"enter reg number : \")\n",
        "       del data[reg]\n",
        "       print(data)\n",
        "\n",
        "       js = json.dumps(data)\n",
        "       \n",
        "       f =  open(\"students.json\",\"w\")\n",
        "       f.write(js)\n",
        "       f.close()\n",
        "       print(\"Record deleted successfull !!!\")\n",
        "\n",
        "  if(a==4):\n",
        "       New_reg = input(\"Enter the Reg NO : \")\n",
        "       New_name = input(\"Enter the Name : \")\n",
        "       New_phone = input(\"Enter the Phone NO : \")\n",
        "       New_dep = input(\"Enter the Department : \")\n",
        "       New_cgpa = input(\"Enter the CGPA value : \")\n",
        "       data[New_reg] = {'name': New_name,'reg_no' : New_reg,'phone' : New_phone,'dep' : New_dep,'cgpa' : New_cgpa}\n",
        "       \n",
        "       js = json.dumps(data)\n",
        "       \n",
        "       f =  open(\"students.json\",\"w\")\n",
        "       f.write(js)\n",
        "       f.close()\n",
        "       print(\"Record added successfull !!!\")\n",
        "\n",
        "  "
      ],
      "execution_count": null,
      "outputs": []
    }
  ]
}